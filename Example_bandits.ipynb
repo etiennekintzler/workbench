{
 "cells": [
  {
   "cell_type": "markdown",
   "metadata": {},
   "source": [
    "### EXAMPLE"
   ]
  },
  {
   "cell_type": "code",
   "execution_count": 1,
   "metadata": {},
   "outputs": [
    {
     "ename": "NameError",
     "evalue": "name 'EpsilonGreedyRegressor' is not defined",
     "output_type": "error",
     "traceback": [
      "\u001b[0;31m---------------------------------------------------------------------------\u001b[0m",
      "\u001b[0;31mNameError\u001b[0m                                 Traceback (most recent call last)",
      "\u001b[0;32m<ipython-input-1-4a8e6631c0e7>\u001b[0m in \u001b[0;36m<module>\u001b[0;34m\u001b[0m\n\u001b[1;32m     16\u001b[0m \u001b[0;34m\u001b[0m\u001b[0m\n\u001b[1;32m     17\u001b[0m \u001b[0;32mfrom\u001b[0m \u001b[0mriver\u001b[0m\u001b[0;34m.\u001b[0m\u001b[0mexpert\u001b[0m \u001b[0;32mimport\u001b[0m \u001b[0mUCBRegressor\u001b[0m\u001b[0;34m\u001b[0m\u001b[0m\n\u001b[0;32m---> 18\u001b[0;31m \u001b[0mbandit\u001b[0m \u001b[0;34m=\u001b[0m \u001b[0mEpsilonGreedyRegressor\u001b[0m\u001b[0;34m(\u001b[0m\u001b[0mmodels\u001b[0m\u001b[0;34m=\u001b[0m\u001b[0mmodels\u001b[0m\u001b[0;34m,\u001b[0m \u001b[0mseed\u001b[0m\u001b[0;34m=\u001b[0m\u001b[0;36m1\u001b[0m\u001b[0;34m)\u001b[0m\u001b[0;34m\u001b[0m\u001b[0m\n\u001b[0m\u001b[1;32m     19\u001b[0m \u001b[0;34m\u001b[0m\u001b[0m\n\u001b[1;32m     20\u001b[0m \u001b[0;32mfor\u001b[0m \u001b[0mx\u001b[0m\u001b[0;34m,\u001b[0m \u001b[0my\u001b[0m \u001b[0;32min\u001b[0m \u001b[0mdataset\u001b[0m\u001b[0;34m:\u001b[0m\u001b[0;34m\u001b[0m\u001b[0m\n",
      "\u001b[0;31mNameError\u001b[0m: name 'EpsilonGreedyRegressor' is not defined"
     ]
    }
   ],
   "source": [
    ">>> from river import compose\n",
    ">>> from river import linear_model\n",
    ">>> from river import preprocessing\n",
    ">>> from river import optim\n",
    "\n",
    ">>> models = [\n",
    "...     compose.Pipeline(\n",
    "...     preprocessing.StandardScaler(),\n",
    "...         linear_model.LinearRegression(optimizer=optim.SGD(lr=lr))\n",
    "...         ) for lr in [1e-4, 1e-3, 1e-2, 1e-1]\n",
    "... ]\n",
    "\n",
    "\n",
    ">>> from river import datasets\n",
    ">>> dataset = datasets.TrumpApproval()\n",
    "\n",
    ">>> from river.expert import UCBRegressor\n",
    ">>> bandit = EpsilonGreedyRegressor(models=models, seed=1)\n",
    "\n",
    ">>> for x, y in dataset:\n",
    "...     bandit = bandit.learn_one(x=x, y=y)\n",
    "\n",
    ">>> print(bandit.percentage_pulled)\n",
    "\n",
    ">>> print(bandit.average_reward)\n",
    "\n",
    ">>> best_model = bandit.best_model\n",
    ">>> print(best_model)\n"
   ]
  },
  {
   "cell_type": "code",
   "execution_count": 35,
   "metadata": {},
   "outputs": [],
   "source": [
    "linear_reg = best_model[\"LinearRegression\"]"
   ]
  },
  {
   "cell_type": "code",
   "execution_count": 36,
   "metadata": {},
   "outputs": [
    {
     "data": {
      "text/plain": [
       "0.01"
      ]
     },
     "execution_count": 36,
     "metadata": {},
     "output_type": "execute_result"
    }
   ],
   "source": [
    "best_model[\"LinearRegression\"].intercept_lr.learning_rate"
   ]
  },
  {
   "cell_type": "markdown",
   "metadata": {},
   "source": [
    "### SCRIPT"
   ]
  },
  {
   "cell_type": "code",
   "execution_count": 2,
   "metadata": {},
   "outputs": [],
   "source": [
    "%load_ext autoreload\n",
    "%autoreload 2\n",
    "\n",
    "#import numpy as np\n",
    "import pandas as pd\n",
    "import matplotlib.pyplot as plt\n",
    "import tqdm\n",
    "import seaborn as sns\n",
    "\n",
    "from river import (\n",
    "    optim,\n",
    "    datasets,\n",
    "    preprocessing,\n",
    "    linear_model,\n",
    "    metrics,\n",
    "    compose\n",
    ")\n",
    "from river.expert import (\n",
    "    UCBRegressor,\n",
    "    EpsilonGreedyRegressor,\n",
    " #   Exp3Regressor\n",
    ")\n",
    "from river.stats import Mean\n",
    "from river.utils.math import sigmoid\n",
    "\n",
    "import numpy as np\n",
    "import random\n",
    "from random import shuffle\n",
    "\n",
    "def r_argmax(lst: list):\n",
    "    max_value = max(lst)\n",
    "    args_max = [i for (i, x) in enumerate(lst) if x == max_value]\n",
    "    arg_max = random.choice(args_max)\n",
    "    return arg_max"
   ]
  },
  {
   "cell_type": "raw",
   "metadata": {},
   "source": [
    "import numpy as np\n",
    "import seaborn as sns\n",
    "import pandas as pd\n",
    "\n",
    "df = pd.DataFrame({f\"scale_{high}\": sigmoid(+np.random.uniform(size=int(1e3), low=high*0.9, high=high)) for high in [100]})#, 0.1, 1, 10, 100]})\n",
    "ax = sns.displot(df, kind=\"ecdf\")\n",
    "#ax.savefig(\"ecdf_scaling.png\")"
   ]
  },
  {
   "cell_type": "code",
   "execution_count": 3,
   "metadata": {},
   "outputs": [
    {
     "name": "stdout",
     "output_type": "stream",
     "text": [
      "1\n",
      "warmup\n",
      "reward: 1.0\n",
      "ave_reward: [0.0, 0.0, 0.0, 0.0, 0.0, 0.0]\n",
      "arm: 5\n",
      "Times pulled [0, 0, 0, 0, 0, 0]\n",
      "\n",
      "\n",
      "UCBRegressor\n",
      "warmup\n",
      "reward: 0\n",
      "ave_reward: [0.0, 0.0, 0.0, 0.0, 0.0, 0.0]\n",
      "arm: 3\n",
      "Times pulled [0, 0, 0, 0, 0, 0]\n",
      "\n",
      "\n",
      "UCBRegressor\n",
      "warmup\n",
      "reward: 0\n",
      "ave_reward: [0.0, 0.0, 0.0, 0.0, 0.0, 0.0]\n",
      "arm: 4\n",
      "Times pulled [0, 0, 0, 0, 0, 0]\n",
      "\n",
      "\n",
      "UCBRegressor\n",
      "warmup\n",
      "reward: 0\n",
      "ave_reward: [0.0, 0.0, 0.0, 0.0, 0.0, 0.0]\n",
      "arm: 3\n",
      "Times pulled [0, 0, 0, 0, 0, 0]\n",
      "\n",
      "\n",
      "UCBRegressor\n",
      "warmup\n",
      "reward: 0\n",
      "ave_reward: [0.0, 0.0, 0.0, 0.0, 0.0, 0.0]\n",
      "arm: 3\n",
      "Times pulled [0, 0, 0, 0, 0, 0]\n",
      "\n",
      "\n",
      "UCBRegressor\n",
      "warmup\n",
      "reward: 0\n",
      "ave_reward: [0.0, 0.0, 0.0, 0.0, 0.0, 0.0]\n",
      "arm: 3\n",
      "Times pulled [0, 0, 0, 0, 0, 0]\n",
      "\n",
      "\n",
      "UCBRegressor\n",
      "warmup\n",
      "reward: 0\n",
      "ave_reward: [0.0, 0.0, 0.0, 0.0, 0.0, 0.0]\n",
      "arm: 5\n",
      "Times pulled [0, 0, 0, 0, 0, 0]\n",
      "\n",
      "\n",
      "UCBRegressor\n",
      "warmup\n",
      "reward: 0\n",
      "ave_reward: [0.0, 0.0, 0.0, 0.0, 0.0, 0.0]\n",
      "arm: 4\n",
      "Times pulled [0, 0, 0, 0, 0, 0]\n",
      "\n",
      "\n",
      "UCBRegressor\n",
      "warmup\n",
      "reward: 0\n",
      "ave_reward: [0.0, 0.0, 0.0, 0.0, 0.0, 0.0]\n",
      "arm: 1\n",
      "Times pulled [0, 0, 0, 0, 0, 0]\n",
      "\n",
      "\n",
      "UCBRegressor\n",
      "warmup\n",
      "reward: 0\n",
      "ave_reward: [0.0, 0.0, 0.0, 0.0, 0.0, 0.0]\n",
      "arm: 1\n",
      "Times pulled [0, 0, 0, 0, 0, 0]\n",
      "\n",
      "\n",
      "UCBRegressor\n",
      "warmup\n",
      "reward: 0\n",
      "ave_reward: [0.0, 0.0, 0.0, 0.0, 0.0, 0.0]\n",
      "arm: 4\n",
      "Times pulled [0, 0, 0, 0, 0, 0]\n",
      "\n",
      "\n",
      "UCBRegressor\n",
      "warmup\n",
      "reward: 0\n",
      "ave_reward: [0.0, 0.0, 0.0, 0.0, 0.0, 0.0]\n",
      "arm: 2\n",
      "Times pulled [0, 0, 0, 0, 0, 0]\n",
      "\n",
      "\n",
      "UCBRegressor\n",
      "warmup\n",
      "reward: 0\n",
      "ave_reward: [0.0, 0.0, 0.0, 0.0, 0.0, 0.0]\n",
      "arm: 2\n",
      "Times pulled [0, 0, 0, 0, 0, 0]\n",
      "\n",
      "\n",
      "UCBRegressor\n",
      "warmup\n",
      "reward: 0\n",
      "ave_reward: [0.0, 0.0, 0.0, 0.0, 0.0, 0.0]\n",
      "arm: 3\n",
      "Times pulled [0, 0, 0, 0, 0, 0]\n",
      "\n",
      "\n",
      "UCBRegressor\n",
      "warmup\n",
      "reward: 0\n",
      "ave_reward: [0.0, 0.0, 0.0, 0.0, 0.0, 0.0]\n",
      "arm: 4\n",
      "Times pulled [0, 0, 0, 0, 0, 0]\n",
      "\n",
      "\n",
      "UCBRegressor\n",
      "warmup\n",
      "reward: 0\n",
      "ave_reward: [0.0, 0.0, 0.0, 0.0, 0.0, 0.0]\n",
      "arm: 4\n",
      "Times pulled [0, 0, 0, 0, 0, 0]\n",
      "\n",
      "\n",
      "UCBRegressor\n",
      "warmup\n",
      "reward: 0\n",
      "ave_reward: [0.0, 0.0, 0.0, 0.0, 0.0, 0.0]\n",
      "arm: 2\n",
      "Times pulled [0, 0, 0, 0, 0, 0]\n",
      "\n",
      "\n",
      "UCBRegressor\n",
      "warmup\n",
      "reward: 0\n",
      "ave_reward: [0.0, 0.0, 0.0, 0.0, 0.0, 0.0]\n",
      "arm: 3\n",
      "Times pulled [0, 0, 0, 0, 0, 0]\n",
      "\n",
      "\n",
      "UCBRegressor\n",
      "warmup\n",
      "reward: 0\n",
      "ave_reward: [0.0, 0.0, 0.0, 0.0, 0.0, 0.0]\n",
      "arm: 5\n",
      "Times pulled [0, 0, 0, 0, 0, 0]\n",
      "\n",
      "\n",
      "UCBRegressor\n",
      "warmup\n",
      "reward: 0\n",
      "ave_reward: [0.0, 0.0, 0.0, 0.0, 0.0, 0.0]\n",
      "arm: 1\n",
      "Times pulled [0, 0, 0, 0, 0, 0]\n",
      "\n",
      "\n",
      "UCBRegressor\n",
      "reward: 0\n",
      "ave_reward: [0.0, 0.0, 0.0, 0.0, 0.0, 0.0]\n",
      "arm: 2\n",
      "Times pulled [0, 0, 1, 0, 0, 0]\n",
      "\n",
      "\n",
      "UCBRegressor\n",
      "reward: 0\n",
      "ave_reward: [0.0, 0.0, 0.0, 0.0, 0.0, 0.0]\n",
      "arm: 1\n",
      "Times pulled [0, 1, 1, 0, 0, 0]\n",
      "\n",
      "\n",
      "UCBRegressor\n",
      "reward: 0\n",
      "ave_reward: [0.0, 0.0, 0.0, 0.0, 0.0, 0.0]\n",
      "arm: 5\n",
      "Times pulled [0, 1, 1, 0, 0, 1]\n",
      "\n",
      "\n",
      "UCBRegressor\n",
      "reward: 0\n",
      "ave_reward: [0.0, 0.0, 0.0, 0.0, 0.0, 0.0]\n",
      "arm: 0\n",
      "Times pulled [1, 1, 1, 0, 0, 1]\n",
      "\n",
      "\n",
      "UCBRegressor\n",
      "reward: 0\n",
      "ave_reward: [0.0, 0.0, 0.0, 0.0, 0.0, 0.0]\n",
      "arm: 3\n",
      "Times pulled [1, 1, 1, 1, 0, 1]\n",
      "\n",
      "\n",
      "UCBRegressor\n",
      "reward: 0\n",
      "ave_reward: [0.0, 0.0, 0.0, 0.0, 0.0, 0.0]\n",
      "arm: 4\n",
      "Times pulled [1, 1, 1, 1, 1, 1]\n",
      "\n",
      "\n",
      "UCBRegressor\n",
      "reward: 0\n",
      "ave_reward: [0.0, 0.0, 0.0, 0.0, 0.0, 0.0]\n",
      "arm: 4\n",
      "Times pulled [1, 1, 1, 1, 2, 1]\n",
      "\n",
      "\n",
      "UCBRegressor\n",
      "reward: 1.3891697311534104e-07\n",
      "ave_reward: [0.0, 6.945848655767052e-08, 0.0, 0.0, 0.0, 0.0]\n",
      "arm: 1\n",
      "Times pulled [1, 2, 1, 1, 2, 1]\n",
      "\n",
      "\n",
      "UCBRegressor\n",
      "reward: 0\n",
      "ave_reward: [0.0, 6.945848655767052e-08, 0.0, 0.0, 0.0, 0.0]\n",
      "arm: 3\n",
      "Times pulled [1, 2, 1, 2, 2, 1]\n",
      "\n",
      "\n",
      "UCBRegressor\n",
      "reward: 0.14428439527911888\n",
      "ave_reward: [0.07214219763955944, 6.945848655767052e-08, 0.0, 0.0, 0.0, 0.0]\n",
      "arm: 0\n",
      "Times pulled [2, 2, 1, 2, 2, 1]\n",
      "\n",
      "\n",
      "UCBRegressor\n",
      "reward: 0\n",
      "ave_reward: [0.07214219763955944, 6.945848655767052e-08, 0.0, 0.0, 0.0, 0.0]\n",
      "arm: 5\n",
      "Times pulled [2, 2, 1, 2, 2, 2]\n",
      "\n",
      "\n",
      "UCBRegressor\n",
      "reward: 7.402854464310033e-13\n",
      "ave_reward: [0.07214219763955944, 6.945848655767052e-08, 3.7014272321550165e-13, 0.0, 0.0, 0.0]\n",
      "arm: 2\n",
      "Times pulled [2, 2, 2, 2, 2, 2]\n",
      "\n",
      "\n",
      "UCBRegressor\n",
      "reward: 0.024370187183054323\n",
      "ave_reward: [0.05621819415405774, 6.945848655767052e-08, 3.7014272321550165e-13, 0.0, 0.0, 0.0]\n",
      "arm: 0\n",
      "Times pulled [3, 2, 2, 2, 2, 2]\n",
      "\n",
      "\n",
      "UCBRegressor\n",
      "reward: 1.8050884500751726e-06\n",
      "ave_reward: [0.05621819415405774, 6.480018077301712e-07, 3.7014272321550165e-13, 0.0, 0.0, 0.0]\n",
      "arm: 1\n",
      "Times pulled [3, 3, 2, 2, 2, 2]\n",
      "\n",
      "\n",
      "UCBRegressor\n",
      "reward: 2.209949620165561e-10\n",
      "ave_reward: [0.05621819415405774, 6.480018077301712e-07, 7.391174915432903e-11, 0.0, 0.0, 0.0]\n",
      "arm: 2\n",
      "Times pulled [3, 3, 3, 2, 2, 2]\n",
      "\n",
      "\n",
      "UCBRegressor\n",
      "reward: 1.3612704519574264e-10\n",
      "ave_reward: [0.05621819415405774, 6.480018077301712e-07, 7.391174915432903e-11, 0.0, 4.537568173191421e-11, 0.0]\n",
      "arm: 4\n",
      "Times pulled [3, 3, 3, 2, 3, 2]\n",
      "\n",
      "\n",
      "UCBRegressor\n",
      "reward: 8.22556593105784e-11\n",
      "ave_reward: [0.05621819415405774, 6.480018077301712e-07, 7.391174915432903e-11, 0.0, 4.537568173191421e-11, 2.7418553103526134e-11]\n",
      "arm: 5\n",
      "Times pulled [3, 3, 3, 2, 3, 3]\n",
      "\n",
      "\n",
      "UCBRegressor\n",
      "reward: 6.637612369991535e-10\n",
      "ave_reward: [0.05621819415405774, 6.480018077301712e-07, 7.391174915432903e-11, 2.2125374566638448e-10, 4.537568173191421e-11, 2.7418553103526134e-11]\n",
      "arm: 3\n",
      "Times pulled [3, 3, 3, 3, 3, 3]\n",
      "\n",
      "\n",
      "UCBRegressor\n",
      "reward: 0.000594413063088554\n",
      "ave_reward: [0.04231224888131544, 6.480018077301712e-07, 7.391174915432903e-11, 2.2125374566638448e-10, 4.537568173191421e-11, 2.7418553103526134e-11]\n",
      "arm: 0\n",
      "Times pulled [4, 3, 3, 3, 3, 3]\n",
      "\n",
      "\n",
      "UCBRegressor\n",
      "reward: 2.9882215837866557e-06\n",
      "ave_reward: [0.04231224888131544, 1.2330567517442923e-06, 7.391174915432903e-11, 2.2125374566638448e-10, 4.537568173191421e-11, 2.7418553103526134e-11]\n",
      "arm: 1\n",
      "Times pulled [4, 4, 3, 3, 3, 3]\n",
      "\n",
      "\n",
      "UCBRegressor\n",
      "reward: 1.2683139678329628e-09\n",
      "ave_reward: [0.04231224888131544, 1.2330567517442923e-06, 7.391174915432903e-11, 4.830188012080291e-10, 4.537568173191421e-11, 2.7418553103526134e-11]\n",
      "arm: 3\n",
      "Times pulled [4, 4, 3, 4, 3, 3]\n",
      "\n",
      "\n",
      "UCBRegressor\n",
      "reward: 5.404854684372658e-10\n",
      "ave_reward: [0.04231224888131544, 1.2330567517442923e-06, 1.9055517897506322e-10, 4.830188012080291e-10, 4.537568173191421e-11, 2.7418553103526134e-11]\n",
      "arm: 2\n",
      "Times pulled [4, 4, 4, 4, 3, 3]\n",
      "\n",
      "\n",
      "UCBRegressor\n",
      "reward: 2.8152979241323373e-10\n",
      "ave_reward: [0.04231224888131544, 1.2330567517442923e-06, 1.9055517897506322e-10, 4.830188012080291e-10, 1.044142094022441e-10, 2.7418553103526134e-11]\n",
      "arm: 4\n",
      "Times pulled [4, 4, 4, 4, 4, 3]\n",
      "\n",
      "\n",
      "UCBRegressor\n",
      "reward: 9.502219110215314e-11\n",
      "ave_reward: [0.04231224888131544, 1.2330567517442923e-06, 1.9055517897506322e-10, 4.830188012080291e-10, 1.044142094022441e-10, 4.431946260318289e-11]\n",
      "arm: 5\n",
      "Times pulled [4, 4, 4, 4, 4, 4]\n",
      "\n",
      "\n",
      "UCBRegressor\n",
      "reward: 3.3417628398786734e-09\n",
      "ave_reward: [0.03384979977340492, 1.2330567517442923e-06, 1.9055517897506322e-10, 4.830188012080291e-10, 1.044142094022441e-10, 4.431946260318289e-11]\n",
      "arm: 0\n",
      "Times pulled [5, 4, 4, 4, 4, 4]\n",
      "\n",
      "\n",
      "UCBRegressor\n",
      "reward: 8.899021340724974e-06\n",
      "ave_reward: [0.03384979977340492, 2.766249669540429e-06, 1.9055517897506322e-10, 4.830188012080291e-10, 1.044142094022441e-10, 4.431946260318289e-11]\n",
      "arm: 1\n",
      "Times pulled [5, 5, 4, 4, 4, 4]\n",
      "\n",
      "\n",
      "UCBRegressor\n",
      "reward: 6.123333113340526e-10\n",
      "ave_reward: [0.03384979977340492, 2.766249669540429e-06, 1.9055517897506322e-10, 5.088817032332339e-10, 1.044142094022441e-10, 4.431946260318289e-11]\n",
      "arm: 3\n",
      "Times pulled [5, 5, 4, 5, 4, 4]\n",
      "\n",
      "\n",
      "UCBRegressor\n",
      "reward: 3.7272263766642775e-10\n",
      "ave_reward: [0.03384979977340492, 2.766249669540429e-06, 2.2698867071333614e-10, 5.088817032332339e-10, 1.044142094022441e-10, 4.431946260318289e-11]\n",
      "arm: 2\n",
      "Times pulled [5, 5, 5, 5, 4, 4]\n",
      "\n",
      "\n",
      "UCBRegressor\n",
      "reward: 1.6985776464287024e-10\n",
      "ave_reward: [0.03384979977340492, 2.766249669540429e-06, 2.2698867071333614e-10, 5.088817032332339e-10, 1.1750292045036933e-10, 4.431946260318289e-11]\n",
      "arm: 4\n",
      "Times pulled [5, 5, 5, 5, 5, 4]\n",
      "\n",
      "\n",
      "UCBRegressor\n",
      "reward: 3.9624812872099835e-11\n",
      "ave_reward: [0.03384979977340492, 2.766249669540429e-06, 2.2698867071333614e-10, 5.088817032332339e-10, 1.1750292045036933e-10, 4.338053265696628e-11]\n",
      "arm: 5\n",
      "Times pulled [5, 5, 5, 5, 5, 5]\n",
      "\n",
      "\n",
      "UCBRegressor\n",
      "reward: 4.65258114591251e-11\n",
      "ave_reward: [0.02820816648559174, 2.766249669540429e-06, 2.2698867071333614e-10, 5.088817032332339e-10, 1.1750292045036933e-10, 4.338053265696628e-11]\n",
      "arm: 0\n",
      "Times pulled [6, 5, 5, 5, 5, 5]\n",
      "\n",
      "\n",
      "UCBRegressor\n",
      "reward: 3.2751979709730827e-09\n",
      "ave_reward: [0.02820816648559174, 2.305753924278853e-06, 2.2698867071333614e-10, 5.088817032332339e-10, 1.1750292045036933e-10, 4.338053265696628e-11]\n",
      "arm: 1\n",
      "Times pulled [6, 6, 5, 5, 5, 5]\n",
      "\n",
      "\n",
      "UCBRegressor\n",
      "reward: 1.879847606088292e-10\n",
      "ave_reward: [0.02820816648559174, 2.305753924278853e-06, 2.2698867071333614e-10, 4.5539887946249977e-10, 1.1750292045036933e-10, 4.338053265696628e-11]\n",
      "arm: 3\n",
      "Times pulled [6, 6, 5, 6, 5, 5]\n",
      "\n",
      "\n",
      "UCBRegressor\n",
      "reward: 2.338146203042361e-10\n",
      "ave_reward: [0.02820816648559174, 2.305753924278853e-06, 2.2812632897848613e-10, 4.5539887946249977e-10, 1.1750292045036933e-10, 4.338053265696628e-11]\n",
      "arm: 2\n",
      "Times pulled [6, 6, 6, 6, 5, 5]\n",
      "\n",
      "\n",
      "UCBRegressor\n",
      "reward: 7.536446539077098e-11\n",
      "ave_reward: [0.02820816648559174, 2.305753924278853e-06, 2.2812632897848613e-10, 4.5539887946249977e-10, 1.1047984460710293e-10, 4.338053265696628e-11]\n",
      "arm: 4\n",
      "Times pulled [6, 6, 6, 6, 6, 5]\n",
      "\n",
      "\n",
      "UCBRegressor\n",
      "reward: 2.7396214290324794e-11\n",
      "ave_reward: [0.02820816648559174, 2.305753924278853e-06, 2.2812632897848613e-10, 4.5539887946249977e-10, 1.1047984460710293e-10, 4.0716479595859366e-11]\n",
      "arm: 5\n",
      "Times pulled [6, 6, 6, 6, 6, 6]\n",
      "\n",
      "\n",
      "UCBRegressor\n",
      "reward: 0.00018369873160181685\n",
      "ave_reward: [0.02420467109216461, 2.305753924278853e-06, 2.2812632897848613e-10, 4.5539887946249977e-10, 1.1047984460710293e-10, 4.0716479595859366e-11]\n",
      "arm: 0\n",
      "Times pulled [7, 6, 6, 6, 6, 6]\n",
      "\n",
      "\n",
      "UCBRegressor\n",
      "reward: 2.5247709847533267e-06\n",
      "ave_reward: [0.02420467109216461, 2.3370420757752063e-06, 2.2812632897848613e-10, 4.5539887946249977e-10, 1.1047984460710293e-10, 4.0716479595859366e-11]\n",
      "arm: 1\n",
      "Times pulled [7, 7, 6, 6, 6, 6]\n",
      "\n",
      "\n",
      "UCBRegressor\n",
      "reward: 8.900329002877776e-11\n",
      "ave_reward: [0.02420467109216461, 2.3370420757752063e-06, 2.2812632897848613e-10, 4.0305665240053947e-10, 1.1047984460710293e-10, 4.0716479595859366e-11]\n",
      "arm: 3\n",
      "Times pulled [7, 7, 6, 7, 6, 6]\n",
      "\n",
      "\n",
      "UCBRegressor\n",
      "reward: 4.630385482744897e-11\n",
      "ave_reward: [0.02420467109216461, 2.3370420757752063e-06, 2.0215168981405225e-10, 4.0305665240053947e-10, 1.1047984460710293e-10, 4.0716479595859366e-11]\n",
      "arm: 2\n",
      "Times pulled [7, 7, 7, 7, 6, 6]\n",
      "\n",
      "\n",
      "UCBRegressor\n",
      "reward: 3.237584667676331e-11\n",
      "ave_reward: [0.02420467109216461, 2.3370420757752063e-06, 2.0215168981405225e-10, 4.0305665240053947e-10, 9.932213061705442e-11, 4.0716479595859366e-11]\n",
      "arm: 4\n",
      "Times pulled [7, 7, 7, 7, 7, 6]\n",
      "\n",
      "\n",
      "UCBRegressor\n"
     ]
    }
   ],
   "source": [
    "dataset = datasets.TrumpApproval()\n",
    "\n",
    "def get_models():\n",
    "    models = [\n",
    "        compose.Pipeline(\n",
    "            preprocessing.StandardScaler(),\n",
    "            #linear_model.LinearRegression(l2=l2, optimizer=optim.SGD(lr=0.01)) # changer le l2 donne de mauvais résultats\n",
    "            linear_model.LinearRegression(optimizer=optim.SGD(lr=lr))\n",
    "        ) for lr in reversed([1e-6, 1e-5, 1e-4, 1e-3, 1e-2, 1e-1])\n",
    "    ]\n",
    "    return models\n",
    "\n",
    "#print([model[\"LinearRegression\"].l2 for model in bandit])\n",
    "watch = []\n",
    "l = []\n",
    "\n",
    "bandit = UCBRegressor(\n",
    "    models=get_models(),\n",
    "    #metric=metrics.MAE(),\n",
    "    #explore_each_arm=1,\n",
    "    #start_after=10,\n",
    ")\n",
    "print(bandit.explore_each_arm)\n",
    "for i, (x,y) in enumerate(dataset):\n",
    "    bandit.predict_one(x=x)\n",
    "    never_pulled_arm = [i for (i, n) in enumerate(bandit._N) if  n < bandit.explore_each_arm]\n",
    "    #print(\"never pulled\", never_pulled_arm)\n",
    "    pred = bandit.predict_one(x=x)\n",
    "    \n",
    "    reward, current_metric , chosen_arm = bandit._learn_one(x=x, y=y)\n",
    "    watch.append((current_metric, reward, chosen_arm))\n",
    "    \n",
    "\n",
    "    if bandit.warm_up:\n",
    "        print(\"warmup\")\n",
    "    print(\"reward:\", reward)\n",
    "    print(\"ave_reward:\", bandit.average_reward)\n",
    "    print(\"arm:\", chosen_arm)\n",
    "    print(\"Times pulled\", bandit._N)\n",
    "    print(\"\\n\")\n",
    "    print(bandit)\n",
    "    \n",
    "    if i == 60:\n",
    "        break\n",
    "\n",
    "    \n",
    "l.append(bandit.percentage_pulled)\n"
   ]
  },
  {
   "cell_type": "code",
   "execution_count": 12,
   "metadata": {},
   "outputs": [],
   "source": []
  },
  {
   "cell_type": "code",
   "execution_count": 13,
   "metadata": {},
   "outputs": [
    {
     "name": "stderr",
     "output_type": "stream",
     "text": [
      "100%|██████████| 50/50 [00:03<00:00, 14.24it/s]\n"
     ]
    }
   ],
   "source": [
    "dataset = datasets.TrumpApproval()\n",
    "\n",
    "\n",
    "lr_grid = list( ([1e-7, 1e-6, 1e-2, 1e-5, 1e-6, 1e-3, 1e-2, 1e-1, 5*(1e-1), 5*1e-2]))\n",
    "shuffle(lr_grid)\n",
    "\n",
    "#lr_grid = [1e-3]*8\n",
    "\n",
    "def get_models():\n",
    "    models = [\n",
    "        compose.Pipeline(\n",
    "            preprocessing.StandardScaler(),\n",
    "            #linear_model.LinearRegression(l2=l2, optimizer=optim.SGD(lr=0.01)) # changer le l2 donne de mauvais résultats\n",
    "            linear_model.LinearRegression(optimizer=optim.SGD(lr=lr))\n",
    "        ) for lr in list(lr_grid)\n",
    "    ]\n",
    "    return models\n",
    "\n",
    "#print([model[\"LinearRegression\"].l2 for model in bandit])\n",
    "watch = []\n",
    "l = []\n",
    "pct_pull = []\n",
    "for _ in tqdm.tqdm(range(50)):\n",
    "    \n",
    "    add_model = [\n",
    "        compose.Pipeline(\n",
    "            preprocessing.StandardScaler(),\n",
    "            #linear_model.LinearRegression(l2=l2, optimizer=optim.SGD(lr=0.01)) # changer le l2 donne de mauvais résultats\n",
    "            linear_model.LinearRegression(optimizer=optim.SGD(lr=1e-2))\n",
    "        )\n",
    "    ]\n",
    "    \n",
    "    sc = preprocessing.StandardScaler()\n",
    "\n",
    "    bandit = EpsilonGreedyRegressor(\n",
    "        models=get_models(),\n",
    "        metric=metrics.MAE(),\n",
    "        #explore_each_arm=0,\n",
    "        #scale_y=True,\n",
    "        #start_after=10,\n",
    "    )\n",
    "    \n",
    "    for i, (x,y) in enumerate(dataset):\n",
    "        #y = sc.learn_one(dict(y=y)).transform_one(dict(y=y))[\"y\"]\n",
    "        current_metric, reward, chosen_arm = bandit._learn_one(x=x, y=y)\n",
    "        #watch.append((current_metric, reward, chosen_arm))\n",
    "    #l.append(bandit.percentage_pulled)\n",
    "    l.append(bandit.average_reward)\n",
    "    pct_pull.append(bandit.percentage_pulled)\n",
    "    \n"
   ]
  },
  {
   "cell_type": "code",
   "execution_count": 10,
   "metadata": {},
   "outputs": [
    {
     "data": {
      "text/plain": [
       "<AxesSubplot:xlabel='model', ylabel='value'>"
      ]
     },
     "execution_count": 10,
     "metadata": {},
     "output_type": "execute_result"
    },
    {
     "data": {
      "image/png": "[encoded data removed]",
      "text/plain": [
       "<Figure size 864x432 with 1 Axes>"
      ]
     },
     "metadata": {
      "needs_background": "light"
     },
     "output_type": "display_data"
    }
   ],
   "source": [
    "df = pd.melt(pd.DataFrame(l).rename(columns={i:(\"m\"+str(i)+\":\"+str(lr)) for (i, lr) in enumerate(lr_grid)}), var_name=\"model\")\n",
    "\n",
    "plt.figure(figsize=(12, 6))\n",
    "sns.barplot(\n",
    "    data=df,#df[~df.model.isin([\"am6:0.5\",\"am5:0.1\"])],\n",
    "    x=\"model\", y=\"value\")"
   ]
  },
  {
   "cell_type": "code",
   "execution_count": 439,
   "metadata": {},
   "outputs": [
    {
     "data": {
      "text/plain": [
       "<AxesSubplot:xlabel='model', ylabel='value'>"
      ]
     },
     "execution_count": 439,
     "metadata": {},
     "output_type": "execute_result"
    },
    {
     "data": {
      "image/png": "[encoded data removed]",
      "text/plain": [
       "<Figure size 1008x576 with 1 Axes>"
      ]
     },
     "metadata": {
      "needs_background": "light"
     },
     "output_type": "display_data"
    }
   ],
   "source": [
    "df = pd.melt(pd.DataFrame(pct_pull).rename(columns={i:(\"m\"+str(i)+\":\"+str(lr)) for (i, lr) in enumerate(lr_grid)}), var_name=\"model\")\n",
    "\n",
    "plt.figure(figsize=(14, 8))\n",
    "sns.barplot(\n",
    "    data=df,#df[~df.model.isin([\"am6:0.5\",\"am5:0.1\"])],\n",
    "    x=\"model\", y=\"value\")"
   ]
  },
  {
   "cell_type": "code",
   "execution_count": 420,
   "metadata": {},
   "outputs": [
    {
     "data": {
      "text/plain": [
       "<AxesSubplot:xlabel='model', ylabel='value'>"
      ]
     },
     "execution_count": 420,
     "metadata": {},
     "output_type": "execute_result"
    },
    {
     "data": {
      "image/png": "[encoded data removed]",
      "text/plain": [
       "<Figure size 1008x576 with 1 Axes>"
      ]
     },
     "metadata": {
      "needs_background": "light"
     },
     "output_type": "display_data"
    }
   ],
   "source": [
    "df = pd.melt(pd.DataFrame(l).rename(columns={i:(\"m\"+str(i)+\":\"+str(lr)) for (i, lr) in enumerate(lr_grid)}), var_name=\"model\")\n",
    "\n",
    "plt.figure(figsize=(14, 8))\n",
    "sns.barplot(\n",
    "    data=df,#df[~df.model.isin([\"am6:0.5\",\"am5:0.1\"])],\n",
    "    x=\"model\", y=\"value\")"
   ]
  },
  {
   "cell_type": "code",
   "execution_count": 348,
   "metadata": {},
   "outputs": [
    {
     "data": {
      "text/plain": [
       "<AxesSubplot:xlabel='model', ylabel='value'>"
      ]
     },
     "execution_count": 348,
     "metadata": {},
     "output_type": "execute_result"
    },
    {
     "data": {
      "image/png": "[encoded data removed]",
      "text/plain": [
       "<Figure size 432x288 with 1 Axes>"
      ]
     },
     "metadata": {
      "needs_background": "light"
     },
     "output_type": "display_data"
    }
   ],
   "source": [
    "df = pd.melt(pd.DataFrame(l).rename(columns={i:(\"m\"+str(i)+\":\"+str(lr)) for (i, lr) in enumerate(lr_grid)}), var_name=\"model\")\n",
    "\n",
    "sns.barplot(\n",
    "    data=df[~df.model.isin([\"am6:0.5\",\"am5:0.1\"])],\n",
    "    x=\"model\", y=\"value\")"
   ]
  },
  {
   "cell_type": "code",
   "execution_count": 126,
   "metadata": {},
   "outputs": [
    {
     "data": {
      "text/plain": [
       "<AxesSubplot:xlabel='model', ylabel='value'>"
      ]
     },
     "execution_count": 126,
     "metadata": {},
     "output_type": "execute_result"
    },
    {
     "data": {
      "image/png": "[encoded data removed]",
      "text/plain": [
       "<Figure size 432x288 with 1 Axes>"
      ]
     },
     "metadata": {
      "needs_background": "light"
     },
     "output_type": "display_data"
    }
   ],
   "source": [
    "df = pd.melt(pd.DataFrame(l).rename(columns={i:(\"m\"+str(i)+\":\"+str(lr)) for (i, lr) in enumerate(lr_grid)}), var_name=\"model\")\n",
    "\n",
    "sns.barplot(\n",
    "    data=df[~df.model.isin([\"am6:0.5\",\"am5:0.1\"])],\n",
    "    x=\"model\", y=\"value\")"
   ]
  },
  {
   "cell_type": "markdown",
   "metadata": {},
   "source": [
    "### Scaling y and sigmoid"
   ]
  },
  {
   "cell_type": "code",
   "execution_count": 254,
   "metadata": {},
   "outputs": [
    {
     "data": {
      "text/plain": [
       "<AxesSubplot:xlabel='model', ylabel='value'>"
      ]
     },
     "execution_count": 254,
     "metadata": {},
     "output_type": "execute_result"
    },
    {
     "data": {
      "image/png": "[encoded data removed]",
      "text/plain": [
       "<Figure size 432x288 with 1 Axes>"
      ]
     },
     "metadata": {
      "needs_background": "light"
     },
     "output_type": "display_data"
    }
   ],
   "source": [
    "sns.barplot(data=pd.melt(pd.DataFrame(l), var_name=\"model\"), x=\"model\", y=\"value\")"
   ]
  },
  {
   "cell_type": "code",
   "execution_count": 256,
   "metadata": {},
   "outputs": [
    {
     "data": {
      "text/plain": [
       "<AxesSubplot:xlabel='model', ylabel='value'>"
      ]
     },
     "execution_count": 256,
     "metadata": {},
     "output_type": "execute_result"
    },
    {
     "data": {
      "image/png": "[encoded data removed]",
      "text/plain": [
       "<Figure size 432x288 with 1 Axes>"
      ]
     },
     "metadata": {
      "needs_background": "light"
     },
     "output_type": "display_data"
    }
   ],
   "source": [
    "sns.barplot(data=pd.melt(pd.DataFrame(l), var_name=\"model\"), x=\"model\", y=\"value\")"
   ]
  },
  {
   "cell_type": "code",
   "execution_count": null,
   "metadata": {},
   "outputs": [],
   "source": []
  }
 ],
 "metadata": {
  "kernelspec": {
   "display_name": "rivenv",
   "language": "python",
   "name": "rivenv"
  },
  "language_info": {
   "codemirror_mode": {
    "name": "ipython",
    "version": 3
   },
   "file_extension": ".py",
   "mimetype": "text/x-python",
   "name": "python",
   "nbconvert_exporter": "python",
   "pygments_lexer": "ipython3",
   "version": "3.7.0"
  }
 },
 "nbformat": 4,
 "nbformat_minor": 4
}
